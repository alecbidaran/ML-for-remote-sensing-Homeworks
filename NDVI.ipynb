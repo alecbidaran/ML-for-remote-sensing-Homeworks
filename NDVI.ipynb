{
  "cells": [
    {
      "cell_type": "markdown",
      "metadata": {
        "id": "view-in-github",
        "colab_type": "text"
      },
      "source": [
        "<a href=\"https://colab.research.google.com/github/alecbidaran/ML-for-remote-sensing-Homeworks/blob/main/NDVI.ipynb\" target=\"_parent\"><img src=\"https://colab.research.google.com/assets/colab-badge.svg\" alt=\"Open In Colab\"/></a>"
      ]
    },
    {
      "cell_type": "code",
      "execution_count": null,
      "id": "suffering-economics",
      "metadata": {
        "id": "suffering-economics"
      },
      "outputs": [],
      "source": [
        "import os\n",
        "import cv2\n",
        "import rasterio\n",
        "from rasterio.plot import reshape_as_image\n",
        "import rasterio.mask\n",
        "from rasterio.features import rasterize\n",
        "import pandas as pd\n",
        "import geopandas as gpd\n",
        "from shapely.geometry import mapping, Point, Polygon\n",
        "from shapely.ops import cascaded_union\n",
        "import numpy as np\n",
        "import matplotlib.pyplot as plt\n",
        "from tqdm import tqdm\n",
        "from geopandas import GeoSeries\n",
        "from shapely.geometry import Polygon\n",
        "from rasterio.windows import Window\n",
        "from rasterio.plot import reshape_as_image\n",
        "\n",
        "\n",
        "%matplotlib inline"
      ]
    },
    {
      "cell_type": "markdown",
      "id": "opposed-certificate",
      "metadata": {
        "id": "opposed-certificate"
      },
      "source": [
        "#### In this excersice, we compute NDVI of 200-300 fields.\n",
        "#### In order to solve it, first, we compute NDVI from B4 and B8 file. \n",
        "#### In the next step, we extract field ids from 200 to 300. Then we crop ndvi rasters with mentioned field ids."
      ]
    },
    {
      "cell_type": "code",
      "execution_count": null,
      "id": "working-holocaust",
      "metadata": {
        "id": "working-holocaust"
      },
      "outputs": [],
      "source": [
        "PROJECT_DIR = 'data/'\n",
        "\n",
        "RASTER_PATH = os.path.join(PROJECT_DIR, 'ndvi.tif')\n",
        "TRAIN_POLYGONS_PATH = os.path.join(PROJECT_DIR, 'train-20220726T194123Z-001/train/train.shp')\n",
        "TRAIN_POLYGONS_CONVERTED = os.path.join(PROJECT_DIR, 'train-20220726T194123Z-001/train/train.geojson')\n",
        "RASTER_MASK_PATH = os.path.join(PROJECT_DIR, 'mask.jp2')\n",
        "FRAGMENT_STORAGE = os.path.join(PROJECT_DIR, 'split')\n",
        "CROPPED_IMAGES = os.path.join(PROJECT_DIR, 'ndvi')"
      ]
    },
    {
      "cell_type": "code",
      "execution_count": null,
      "id": "bearing-virginia",
      "metadata": {
        "id": "bearing-virginia"
      },
      "outputs": [],
      "source": [
        "with rasterio.open(RASTER_PATH,'r') as src:\n",
        "    raster=src.read()\n",
        "    metadata=src.meta"
      ]
    },
    {
      "cell_type": "code",
      "execution_count": null,
      "id": "blank-occasion",
      "metadata": {
        "id": "blank-occasion",
        "outputId": "e0dbbccc-75f5-4c3c-fbc8-5e9373f504e8"
      },
      "outputs": [
        {
          "data": {
            "text/plain": [
              "{'driver': 'GTiff',\n",
              " 'dtype': 'float64',\n",
              " 'nodata': None,\n",
              " 'width': 10980,\n",
              " 'height': 10980,\n",
              " 'count': 1,\n",
              " 'crs': CRS.from_epsg(32734),\n",
              " 'transform': Affine(10.0, 0.0, 499980.0,\n",
              "        0.0, -10.0, 6900040.0)}"
            ]
          },
          "execution_count": 50,
          "metadata": {},
          "output_type": "execute_result"
        }
      ],
      "source": [
        "metadata"
      ]
    },
    {
      "cell_type": "code",
      "execution_count": null,
      "id": "appreciated-priority",
      "metadata": {
        "id": "appreciated-priority",
        "outputId": "8a2bf072-3e4d-4e2d-c5c4-9408d2222cbe"
      },
      "outputs": [
        {
          "name": "stderr",
          "output_type": "stream",
          "text": [
            "/home/ali/.local/lib/python3.8/site-packages/geopandas/_vectorized.py:143: ShapelyDeprecationWarning: __len__ for multi-part geometries is deprecated and will be removed in Shapely 2.0. Check the length of the `geoms` property instead to get the  number of parts of a multi-part geometry.\n",
            "  aout[:] = out\n",
            "/home/ali/.local/lib/python3.8/site-packages/geopandas/_vectorized.py:143: ShapelyDeprecationWarning: Iteration over multi-part geometries is deprecated and will be removed in Shapely 2.0. Use the `geoms` property to access the constituent parts of a multi-part geometry.\n",
            "  aout[:] = out\n",
            "/home/ali/.local/lib/python3.8/site-packages/pyproj/crs/crs.py:130: FutureWarning: '+init=<authority>:<code>' syntax is deprecated. '<authority>:<code>' is the preferred initialization method. When making the change, be mindful of axis order changes: https://pyproj4.github.io/pyproj/stable/gotchas.html#axis-order-changes-in-proj-6\n",
            "  in_crs_string = _prepare_from_proj_string(in_crs_string)\n"
          ]
        }
      ],
      "source": [
        "df=gpd.read_file(TRAIN_POLYGONS_CONVERTED)\n",
        "df.crs={'init':'epsg:32734'}"
      ]
    },
    {
      "cell_type": "code",
      "execution_count": null,
      "id": "catholic-season",
      "metadata": {
        "id": "catholic-season"
      },
      "outputs": [],
      "source": [
        "selected=[]\n",
        "for i in range(200,300):\n",
        "    v=df[df[\"Field_Id\"]==i]\n",
        "    selected.append(v)\n",
        "    "
      ]
    },
    {
      "cell_type": "code",
      "execution_count": null,
      "id": "velvet-criminal",
      "metadata": {
        "id": "velvet-criminal",
        "outputId": "92ebfaf3-6826-4a91-b6ba-f8821172af7f"
      },
      "outputs": [
        {
          "data": {
            "text/html": [
              "<div>\n",
              "<style scoped>\n",
              "    .dataframe tbody tr th:only-of-type {\n",
              "        vertical-align: middle;\n",
              "    }\n",
              "\n",
              "    .dataframe tbody tr th {\n",
              "        vertical-align: top;\n",
              "    }\n",
              "\n",
              "    .dataframe thead th {\n",
              "        text-align: right;\n",
              "    }\n",
              "</style>\n",
              "<table border=\"1\" class=\"dataframe\">\n",
              "  <thead>\n",
              "    <tr style=\"text-align: right;\">\n",
              "      <th></th>\n",
              "      <th>Field_Id</th>\n",
              "      <th>Area</th>\n",
              "      <th>Subregion</th>\n",
              "      <th>Crop_Id_Ne</th>\n",
              "      <th>geometry</th>\n",
              "    </tr>\n",
              "  </thead>\n",
              "  <tbody>\n",
              "    <tr>\n",
              "      <th>139</th>\n",
              "      <td>200</td>\n",
              "      <td>0.519965</td>\n",
              "      <td>3</td>\n",
              "      <td>8</td>\n",
              "      <td>POLYGON ((605651.448 6806128.924, 605616.184 6...</td>\n",
              "    </tr>\n",
              "    <tr>\n",
              "      <th>2553</th>\n",
              "      <td>201</td>\n",
              "      <td>1.873660</td>\n",
              "      <td>3</td>\n",
              "      <td>None</td>\n",
              "      <td>POLYGON ((605646.512 6805392.676, 605680.400 6...</td>\n",
              "    </tr>\n",
              "    <tr>\n",
              "      <th>140</th>\n",
              "      <td>202</td>\n",
              "      <td>0.767730</td>\n",
              "      <td>3</td>\n",
              "      <td>5</td>\n",
              "      <td>POLYGON ((605764.355 6805530.013, 605775.436 6...</td>\n",
              "    </tr>\n",
              "    <tr>\n",
              "      <th>2554</th>\n",
              "      <td>203</td>\n",
              "      <td>1.402170</td>\n",
              "      <td>3</td>\n",
              "      <td>None</td>\n",
              "      <td>POLYGON ((605767.943 6805653.324, 605769.676 6...</td>\n",
              "    </tr>\n",
              "    <tr>\n",
              "      <th>2555</th>\n",
              "      <td>204</td>\n",
              "      <td>1.357730</td>\n",
              "      <td>1</td>\n",
              "      <td>None</td>\n",
              "      <td>POLYGON ((605799.780 6805896.534, 605823.107 6...</td>\n",
              "    </tr>\n",
              "    <tr>\n",
              "      <th>...</th>\n",
              "      <td>...</td>\n",
              "      <td>...</td>\n",
              "      <td>...</td>\n",
              "      <td>...</td>\n",
              "      <td>...</td>\n",
              "    </tr>\n",
              "    <tr>\n",
              "      <th>198</th>\n",
              "      <td>295</td>\n",
              "      <td>1.544030</td>\n",
              "      <td>3</td>\n",
              "      <td>4</td>\n",
              "      <td>POLYGON ((609972.658 6800764.167, 610130.086 6...</td>\n",
              "    </tr>\n",
              "    <tr>\n",
              "      <th>199</th>\n",
              "      <td>296</td>\n",
              "      <td>1.778420</td>\n",
              "      <td>3</td>\n",
              "      <td>8</td>\n",
              "      <td>POLYGON ((610023.944 6800843.809, 610161.878 6...</td>\n",
              "    </tr>\n",
              "    <tr>\n",
              "      <th>200</th>\n",
              "      <td>297</td>\n",
              "      <td>0.332092</td>\n",
              "      <td>3</td>\n",
              "      <td>8</td>\n",
              "      <td>POLYGON ((609986.034 6800858.144, 610014.915 6...</td>\n",
              "    </tr>\n",
              "    <tr>\n",
              "      <th>201</th>\n",
              "      <td>298</td>\n",
              "      <td>2.532020</td>\n",
              "      <td>3</td>\n",
              "      <td>7</td>\n",
              "      <td>POLYGON ((610040.299 6800953.340, 610212.975 6...</td>\n",
              "    </tr>\n",
              "    <tr>\n",
              "      <th>2589</th>\n",
              "      <td>299</td>\n",
              "      <td>2.834390</td>\n",
              "      <td>3</td>\n",
              "      <td>None</td>\n",
              "      <td>POLYGON ((610045.266 6800963.312, 610090.870 6...</td>\n",
              "    </tr>\n",
              "  </tbody>\n",
              "</table>\n",
              "<p>100 rows × 5 columns</p>\n",
              "</div>"
            ],
            "text/plain": [
              "      Field_Id      Area  Subregion Crop_Id_Ne  \\\n",
              "139        200  0.519965          3          8   \n",
              "2553       201  1.873660          3       None   \n",
              "140        202  0.767730          3          5   \n",
              "2554       203  1.402170          3       None   \n",
              "2555       204  1.357730          1       None   \n",
              "...        ...       ...        ...        ...   \n",
              "198        295  1.544030          3          4   \n",
              "199        296  1.778420          3          8   \n",
              "200        297  0.332092          3          8   \n",
              "201        298  2.532020          3          7   \n",
              "2589       299  2.834390          3       None   \n",
              "\n",
              "                                               geometry  \n",
              "139   POLYGON ((605651.448 6806128.924, 605616.184 6...  \n",
              "2553  POLYGON ((605646.512 6805392.676, 605680.400 6...  \n",
              "140   POLYGON ((605764.355 6805530.013, 605775.436 6...  \n",
              "2554  POLYGON ((605767.943 6805653.324, 605769.676 6...  \n",
              "2555  POLYGON ((605799.780 6805896.534, 605823.107 6...  \n",
              "...                                                 ...  \n",
              "198   POLYGON ((609972.658 6800764.167, 610130.086 6...  \n",
              "199   POLYGON ((610023.944 6800843.809, 610161.878 6...  \n",
              "200   POLYGON ((609986.034 6800858.144, 610014.915 6...  \n",
              "201   POLYGON ((610040.299 6800953.340, 610212.975 6...  \n",
              "2589  POLYGON ((610045.266 6800963.312, 610090.870 6...  \n",
              "\n",
              "[100 rows x 5 columns]"
            ]
          },
          "execution_count": 5,
          "metadata": {},
          "output_type": "execute_result"
        }
      ],
      "source": [
        "selected_values=pd.concat(selected)\n",
        "selected_values"
      ]
    },
    {
      "cell_type": "code",
      "execution_count": null,
      "id": "alert-battlefield",
      "metadata": {
        "id": "alert-battlefield"
      },
      "outputs": [],
      "source": [
        "# save converted dataframe\n",
        "TRAIN_POLYGONS_CONVERTED = os.path.join(PROJECT_DIR, 'train-20220726T194123Z-001/train/pts200-300.geojson')\n",
        "selected_values.to_file(TRAIN_POLYGONS_CONVERTED,driver=\"GeoJSON\")"
      ]
    },
    {
      "cell_type": "markdown",
      "id": "optional-faculty",
      "metadata": {
        "id": "optional-faculty"
      },
      "source": [
        "Extract feilds"
      ]
    },
    {
      "cell_type": "code",
      "execution_count": null,
      "id": "reasonable-november",
      "metadata": {
        "id": "reasonable-november",
        "outputId": "cfd003c6-6374-4905-cf52-c0606162ce19"
      },
      "outputs": [
        {
          "name": "stdout",
          "output_type": "stream",
          "text": [
            "Input shapes do not overlap raster.\n",
            "Input shapes do not overlap raster.\n",
            "Input shapes do not overlap raster.\n",
            "Input shapes do not overlap raster.\n",
            "Input shapes do not overlap raster.\n",
            "Input shapes do not overlap raster.\n",
            "Input shapes do not overlap raster.\n",
            "Input shapes do not overlap raster.\n",
            "Input shapes do not overlap raster.\n",
            "Input shapes do not overlap raster.\n",
            "Input shapes do not overlap raster.\n",
            "Input shapes do not overlap raster.\n",
            "Input shapes do not overlap raster.\n",
            "Input shapes do not overlap raster.\n",
            "Input shapes do not overlap raster.\n",
            "Input shapes do not overlap raster.\n",
            "Input shapes do not overlap raster.\n",
            "Input shapes do not overlap raster.\n",
            "Input shapes do not overlap raster.\n",
            "Input shapes do not overlap raster.\n",
            "Input shapes do not overlap raster.\n",
            "Input shapes do not overlap raster.\n",
            "Input shapes do not overlap raster.\n",
            "Input shapes do not overlap raster.\n",
            "Input shapes do not overlap raster.\n",
            "Input shapes do not overlap raster.\n",
            "Input shapes do not overlap raster.\n",
            "Input shapes do not overlap raster.\n",
            "Input shapes do not overlap raster.\n",
            "Input shapes do not overlap raster.\n",
            "Input shapes do not overlap raster.\n",
            "Input shapes do not overlap raster.\n",
            "Input shapes do not overlap raster.\n",
            "Input shapes do not overlap raster.\n",
            "Input shapes do not overlap raster.\n",
            "Input shapes do not overlap raster.\n",
            "Input shapes do not overlap raster.\n",
            "Input shapes do not overlap raster.\n",
            "Input shapes do not overlap raster.\n",
            "Input shapes do not overlap raster.\n",
            "Input shapes do not overlap raster.\n",
            "Input shapes do not overlap raster.\n",
            "Input shapes do not overlap raster.\n",
            "Input shapes do not overlap raster.\n",
            "Input shapes do not overlap raster.\n",
            "Input shapes do not overlap raster.\n",
            "Input shapes do not overlap raster.\n",
            "Input shapes do not overlap raster.\n",
            "Input shapes do not overlap raster.\n",
            "Input shapes do not overlap raster.\n",
            "Input shapes do not overlap raster.\n",
            "Input shapes do not overlap raster.\n",
            "Input shapes do not overlap raster.\n",
            "Input shapes do not overlap raster.\n",
            "Input shapes do not overlap raster.\n",
            "Input shapes do not overlap raster.\n",
            "Input shapes do not overlap raster.\n",
            "Input shapes do not overlap raster.\n",
            "Input shapes do not overlap raster.\n",
            "Input shapes do not overlap raster.\n",
            "Input shapes do not overlap raster.\n",
            "Input shapes do not overlap raster.\n",
            "Input shapes do not overlap raster.\n",
            "Input shapes do not overlap raster.\n",
            "Input shapes do not overlap raster.\n",
            "Input shapes do not overlap raster.\n",
            "Input shapes do not overlap raster.\n"
          ]
        }
      ],
      "source": [
        "# create tiles of each field\n",
        "failed=0\n",
        "images=[]\n",
        "src=rasterio.open(RASTER_PATH,'r')\n",
        "for num,row in selected_values.iterrows():\n",
        "    try: \n",
        "        cropped_img, cropped_transform=rasterio.mask.mask(src,[df['geometry'].iloc[num]],crop=True,nodata=0)\n",
        "        cropped_img=reshape_as_image(cropped_img)\n",
        "        #save_path=os.path.join(CROPPED_IMAGES,\"{}.jpg\".format(row['Field_Id']))\n",
        "        #cv2.imwrite(save_path,cropped_img)\n",
        "        images.append(cropped_img)\n",
        "    except Exception as error: \n",
        "        failed+=1\n",
        "        print(error)"
      ]
    },
    {
      "cell_type": "markdown",
      "id": "polar-tackle",
      "metadata": {
        "id": "polar-tackle"
      },
      "source": [
        "#### Finally we add cropped ndvis. Then we compute each means of rasters and the overall mean.  The code below illustrates the overal mean and each means of rasters."
      ]
    },
    {
      "cell_type": "code",
      "execution_count": null,
      "id": "variable-oregon",
      "metadata": {
        "id": "variable-oregon"
      },
      "outputs": [],
      "source": [
        "sums=[]\n",
        "for img in images:\n",
        "    s=np.mean(img)\n",
        "    sums.append(s)"
      ]
    },
    {
      "cell_type": "code",
      "execution_count": null,
      "id": "broken-transmission",
      "metadata": {
        "id": "broken-transmission",
        "outputId": "a1b9c3a2-a536-4133-8de6-00a900b3b39e"
      },
      "outputs": [
        {
          "data": {
            "text/plain": [
              "0.2178294678530861"
            ]
          },
          "execution_count": 90,
          "metadata": {},
          "output_type": "execute_result"
        }
      ],
      "source": [
        "np.mean(sums)"
      ]
    },
    {
      "cell_type": "code",
      "execution_count": null,
      "id": "turkish-token",
      "metadata": {
        "id": "turkish-token",
        "outputId": "b901a4a9-71fc-4c5d-8a1e-063f9f2e48af"
      },
      "outputs": [
        {
          "data": {
            "text/plain": [
              "[0.17485405805725857,\n",
              " 0.09962452450735403,\n",
              " 0.4071569471939158,\n",
              " 0.39070688274282056,\n",
              " 0.37898608753080226,\n",
              " 0.33171386780626005,\n",
              " 0.055753878300695496,\n",
              " 0.2879462015170159,\n",
              " 0.30145272654225586,\n",
              " 0.253594568237488,\n",
              " 0.28995743602987983,\n",
              " 0.16052895826127903,\n",
              " 0.13314307035441425,\n",
              " 0.1493373229811514,\n",
              " 0.30686443324299323,\n",
              " 0.322951092993311,\n",
              " 0.139451765405289,\n",
              " 0.17793315121909764,\n",
              " 0.46863643985121206,\n",
              " 0.36514621138416686,\n",
              " 0.1996159183205966,\n",
              " 0.16224994457264202,\n",
              " 0.13240685221237639,\n",
              " 0.3396737249200608,\n",
              " 0.15368906554317563,\n",
              " 0.3922244819843429,\n",
              " 0.10448340684403798,\n",
              " 0.055542826803765565,\n",
              " 0.06976361788764325,\n",
              " 0.06478759620982473,\n",
              " 0.06790937586525547,\n",
              " 0.05641202208107873,\n",
              " 0.1938739817483815]"
            ]
          },
          "execution_count": 91,
          "metadata": {},
          "output_type": "execute_result"
        }
      ],
      "source": [
        "sums"
      ]
    },
    {
      "cell_type": "code",
      "execution_count": null,
      "id": "applied-sherman",
      "metadata": {
        "id": "applied-sherman",
        "outputId": "7f4ab18d-f03c-4f55-cfb1-5b557c8361d3"
      },
      "outputs": [
        {
          "data": {
            "text/plain": [
              "<matplotlib.image.AxesImage at 0x7f536c32ba90>"
            ]
          },
          "execution_count": 12,
          "metadata": {},
          "output_type": "execute_result"
        },
        {
          "data": {
            "image/png": "[encoded data removed]",
            "text/plain": [
              "<Figure size 432x288 with 1 Axes>"
            ]
          },
          "metadata": {
            "needs_background": "light"
          },
          "output_type": "display_data"
        },
        {
          "data": {
            "image/png": "[encoded data removed]",
            "text/plain": [
              "<Figure size 432x288 with 1 Axes>"
            ]
          },
          "metadata": {
            "needs_background": "light"
          },
          "output_type": "display_data"
        }
      ],
      "source": [
        "plt.imshow(images[0],cmap=\"gray\")\n",
        "plt.figure()\n",
        "plt.imshow(images[1],cmap=\"gray\")\n"
      ]
    },
    {
      "cell_type": "code",
      "execution_count": null,
      "id": "existing-moses",
      "metadata": {
        "id": "existing-moses"
      },
      "outputs": [],
      "source": [
        ""
      ]
    }
  ],
  "metadata": {
    "kernelspec": {
      "display_name": "Python 3",
      "language": "python",
      "name": "python3"
    },
    "language_info": {
      "codemirror_mode": {
        "name": "ipython",
        "version": 3
      },
      "file_extension": ".py",
      "mimetype": "text/x-python",
      "name": "python",
      "nbconvert_exporter": "python",
      "pygments_lexer": "ipython3",
      "version": "3.8.10"
    },
    "colab": {
      "name": "NDVI.ipynb",
      "provenance": [],
      "include_colab_link": true
    }
  },
  "nbformat": 4,
  "nbformat_minor": 5
}